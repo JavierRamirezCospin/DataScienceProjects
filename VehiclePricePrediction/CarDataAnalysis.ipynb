{
 "cells": [
  {
   "cell_type": "markdown",
   "metadata": {},
   "source": [
    "# Data analysis for Car Data\n",
    "\n",
    "## Objectives:\n",
    "\n",
    "- Clean and manipulate raw data.\n",
    "- Perform EDA."
   ]
  },
  {
   "cell_type": "code",
   "execution_count": 1,
   "metadata": {},
   "outputs": [],
   "source": [
    "import pandas as pd\n",
    "import numpy as np\n",
    "import matplotlib.pyplot as plt\n",
    "import seaborn as sns\n",
    "from statsmodels.stats.outliers_influence import variance_inflation_factor\n",
    "import statsmodels.formula.api as smf"
   ]
  },
  {
   "cell_type": "markdown",
   "metadata": {},
   "source": [
    "## Data cleaning and manipulation"
   ]
  },
  {
   "cell_type": "code",
   "execution_count": 2,
   "metadata": {},
   "outputs": [
    {
     "data": {
      "text/html": [
       "<div>\n",
       "<style scoped>\n",
       "    .dataframe tbody tr th:only-of-type {\n",
       "        vertical-align: middle;\n",
       "    }\n",
       "\n",
       "    .dataframe tbody tr th {\n",
       "        vertical-align: top;\n",
       "    }\n",
       "\n",
       "    .dataframe thead th {\n",
       "        text-align: right;\n",
       "    }\n",
       "</style>\n",
       "<table border=\"1\" class=\"dataframe\">\n",
       "  <thead>\n",
       "    <tr style=\"text-align: right;\">\n",
       "      <th></th>\n",
       "      <th>name</th>\n",
       "      <th>year</th>\n",
       "      <th>selling_price</th>\n",
       "      <th>km_driven</th>\n",
       "      <th>fuel</th>\n",
       "      <th>seller_type</th>\n",
       "      <th>transmission</th>\n",
       "      <th>owner</th>\n",
       "      <th>mileage(kmpl)</th>\n",
       "      <th>engine(CC)</th>\n",
       "      <th>max_power(bhp)</th>\n",
       "      <th>torque</th>\n",
       "      <th>seats</th>\n",
       "    </tr>\n",
       "  </thead>\n",
       "  <tbody>\n",
       "    <tr>\n",
       "      <th>0</th>\n",
       "      <td>Maruti Swift Dzire VDI</td>\n",
       "      <td>2014</td>\n",
       "      <td>450000</td>\n",
       "      <td>145500</td>\n",
       "      <td>Diesel</td>\n",
       "      <td>Individual</td>\n",
       "      <td>Manual</td>\n",
       "      <td>First Owner</td>\n",
       "      <td>23.4 kmpl</td>\n",
       "      <td>1248 CC</td>\n",
       "      <td>74 bhp</td>\n",
       "      <td>190Nm@ 2000rpm</td>\n",
       "      <td>5.0</td>\n",
       "    </tr>\n",
       "    <tr>\n",
       "      <th>1</th>\n",
       "      <td>Skoda Rapid 1.5 TDI Ambition</td>\n",
       "      <td>2014</td>\n",
       "      <td>370000</td>\n",
       "      <td>120000</td>\n",
       "      <td>Diesel</td>\n",
       "      <td>Individual</td>\n",
       "      <td>Manual</td>\n",
       "      <td>Second Owner</td>\n",
       "      <td>21.14 kmpl</td>\n",
       "      <td>1498 CC</td>\n",
       "      <td>103.52 bhp</td>\n",
       "      <td>250Nm@ 1500-2500rpm</td>\n",
       "      <td>5.0</td>\n",
       "    </tr>\n",
       "    <tr>\n",
       "      <th>2</th>\n",
       "      <td>Honda City 2017-2020 EXi</td>\n",
       "      <td>2006</td>\n",
       "      <td>158000</td>\n",
       "      <td>140000</td>\n",
       "      <td>Petrol</td>\n",
       "      <td>Individual</td>\n",
       "      <td>Manual</td>\n",
       "      <td>Third Owner</td>\n",
       "      <td>17.7 kmpl</td>\n",
       "      <td>1497 CC</td>\n",
       "      <td>78 bhp</td>\n",
       "      <td>12.7@ 2,700(kgm@ rpm)</td>\n",
       "      <td>5.0</td>\n",
       "    </tr>\n",
       "    <tr>\n",
       "      <th>3</th>\n",
       "      <td>Hyundai i20 Sportz Diesel</td>\n",
       "      <td>2010</td>\n",
       "      <td>225000</td>\n",
       "      <td>127000</td>\n",
       "      <td>Diesel</td>\n",
       "      <td>Individual</td>\n",
       "      <td>Manual</td>\n",
       "      <td>First Owner</td>\n",
       "      <td>23.0 kmpl</td>\n",
       "      <td>1396 CC</td>\n",
       "      <td>90 bhp</td>\n",
       "      <td>22.4 kgm at 1750-2750rpm</td>\n",
       "      <td>5.0</td>\n",
       "    </tr>\n",
       "    <tr>\n",
       "      <th>4</th>\n",
       "      <td>Maruti Swift VXI BSIII</td>\n",
       "      <td>2007</td>\n",
       "      <td>130000</td>\n",
       "      <td>120000</td>\n",
       "      <td>Petrol</td>\n",
       "      <td>Individual</td>\n",
       "      <td>Manual</td>\n",
       "      <td>First Owner</td>\n",
       "      <td>16.1 kmpl</td>\n",
       "      <td>1298 CC</td>\n",
       "      <td>88.2 bhp</td>\n",
       "      <td>11.5@ 4,500(kgm@ rpm)</td>\n",
       "      <td>5.0</td>\n",
       "    </tr>\n",
       "  </tbody>\n",
       "</table>\n",
       "</div>"
      ],
      "text/plain": [
       "                           name  year  selling_price  km_driven    fuel  \\\n",
       "0        Maruti Swift Dzire VDI  2014         450000     145500  Diesel   \n",
       "1  Skoda Rapid 1.5 TDI Ambition  2014         370000     120000  Diesel   \n",
       "2      Honda City 2017-2020 EXi  2006         158000     140000  Petrol   \n",
       "3     Hyundai i20 Sportz Diesel  2010         225000     127000  Diesel   \n",
       "4        Maruti Swift VXI BSIII  2007         130000     120000  Petrol   \n",
       "\n",
       "  seller_type transmission         owner mileage(kmpl) engine(CC)  \\\n",
       "0  Individual       Manual   First Owner     23.4 kmpl    1248 CC   \n",
       "1  Individual       Manual  Second Owner    21.14 kmpl    1498 CC   \n",
       "2  Individual       Manual   Third Owner     17.7 kmpl    1497 CC   \n",
       "3  Individual       Manual   First Owner     23.0 kmpl    1396 CC   \n",
       "4  Individual       Manual   First Owner     16.1 kmpl    1298 CC   \n",
       "\n",
       "  max_power(bhp)                    torque  seats  \n",
       "0         74 bhp            190Nm@ 2000rpm    5.0  \n",
       "1     103.52 bhp       250Nm@ 1500-2500rpm    5.0  \n",
       "2         78 bhp     12.7@ 2,700(kgm@ rpm)    5.0  \n",
       "3         90 bhp  22.4 kgm at 1750-2750rpm    5.0  \n",
       "4       88.2 bhp     11.5@ 4,500(kgm@ rpm)    5.0  "
      ]
     },
     "execution_count": 2,
     "metadata": {},
     "output_type": "execute_result"
    }
   ],
   "source": [
    "df = pd.read_csv('CarData.csv')\n",
    "df.rename(columns={'mileage':'mileage(kmpl)','engine':'engine(CC)','max_power':'max_power(bhp)'},inplace=True)\n",
    "df.head()"
   ]
  },
  {
   "cell_type": "code",
   "execution_count": 3,
   "metadata": {},
   "outputs": [
    {
     "name": "stdout",
     "output_type": "stream",
     "text": [
      "Dataset initial shape: (8128, 13)\n"
     ]
    }
   ],
   "source": [
    "print(\"Dataset initial shape:\",df.shape)"
   ]
  },
  {
   "cell_type": "markdown",
   "metadata": {},
   "source": [
    "### 1. Null manipulation"
   ]
  },
  {
   "cell_type": "code",
   "execution_count": 4,
   "metadata": {},
   "outputs": [
    {
     "name": "stdout",
     "output_type": "stream",
     "text": [
      "name                0\n",
      "year                0\n",
      "selling_price       0\n",
      "km_driven           0\n",
      "fuel                0\n",
      "seller_type         0\n",
      "transmission        0\n",
      "owner               0\n",
      "mileage(kmpl)     221\n",
      "engine(CC)        221\n",
      "max_power(bhp)    215\n",
      "torque            222\n",
      "seats             221\n",
      "dtype: int64\n"
     ]
    }
   ],
   "source": [
    "print(df.isnull().sum())"
   ]
  },
  {
   "cell_type": "markdown",
   "metadata": {},
   "source": [
    "Null values will be dropped for being few."
   ]
  },
  {
   "cell_type": "code",
   "execution_count": 5,
   "metadata": {},
   "outputs": [
    {
     "name": "stdout",
     "output_type": "stream",
     "text": [
      "Dataframe shape after dropping null values:  (7906, 13)\n"
     ]
    }
   ],
   "source": [
    "df.dropna(inplace=True)\n",
    "print(\"Dataframe shape after dropping null values: \",df.shape)"
   ]
  },
  {
   "cell_type": "markdown",
   "metadata": {},
   "source": [
    "### 2. Duplicate values manipulation\n",
    "\n",
    "In this case duplicate values do not add extra information and could potentially add model overfit, so they will be removed."
   ]
  },
  {
   "cell_type": "code",
   "execution_count": 6,
   "metadata": {},
   "outputs": [
    {
     "name": "stdout",
     "output_type": "stream",
     "text": [
      "Dataframe shape after dropping duplicate values:  (6717, 13)\n"
     ]
    }
   ],
   "source": [
    "df.drop_duplicates(inplace=True)\n",
    "print(\"Dataframe shape after dropping duplicate values: \",df.shape)"
   ]
  },
  {
   "cell_type": "markdown",
   "metadata": {},
   "source": [
    "### 3. Converting mileage values in dataframe\n",
    "\n",
    "Replacing mileage, engine and max power to float type."
   ]
  },
  {
   "cell_type": "code",
   "execution_count": 7,
   "metadata": {},
   "outputs": [
    {
     "data": {
      "text/plain": [
       "name               object\n",
       "year                int64\n",
       "selling_price       int64\n",
       "km_driven           int64\n",
       "fuel               object\n",
       "seller_type        object\n",
       "transmission       object\n",
       "owner              object\n",
       "mileage(kmpl)      object\n",
       "engine(CC)         object\n",
       "max_power(bhp)     object\n",
       "torque             object\n",
       "seats             float64\n",
       "dtype: object"
      ]
     },
     "execution_count": 7,
     "metadata": {},
     "output_type": "execute_result"
    }
   ],
   "source": [
    "df.dtypes"
   ]
  },
  {
   "cell_type": "code",
   "execution_count": 8,
   "metadata": {},
   "outputs": [],
   "source": [
    "mileage_arr = np.asarray(df['mileage(kmpl)'])\n",
    "correct_mileage = []\n",
    "for mileage in mileage_arr:\n",
    "    mil, milt = mileage.split(\" \")\n",
    "    if milt == \"km/kg\":\n",
    "        result = float(mil)*1.4\n",
    "        correct_mileage.append(str(result))\n",
    "    else: correct_mileage.append(mil)\n",
    "\n",
    "df['mileage(kmpl)'] = correct_mileage\n",
    "df[\"mileage(kmpl)\"]= df[\"mileage(kmpl)\"].astype(float)"
   ]
  },
  {
   "cell_type": "code",
   "execution_count": 9,
   "metadata": {},
   "outputs": [],
   "source": [
    "engine_arr = np.asarray(df['engine(CC)'])\n",
    "correct_engine = []\n",
    "for engine in engine_arr:\n",
    "    eng, engt = engine.split(\" \")\n",
    "    correct_engine.append(eng)\n",
    "\n",
    "df['engine(CC)'] = correct_engine\n",
    "df[\"engine(CC)\"]= df[\"engine(CC)\"].astype(float)"
   ]
  },
  {
   "cell_type": "code",
   "execution_count": 10,
   "metadata": {},
   "outputs": [],
   "source": [
    "power_arr = np.asarray(df['max_power(bhp)'])\n",
    "correct_power = []\n",
    "for power in power_arr:\n",
    "    pow, powt = power.split(\" \")\n",
    "    correct_power.append(pow)\n",
    "\n",
    "df['max_power(bhp)'] = correct_power\n",
    "df[\"max_power(bhp)\"]= df[\"max_power(bhp)\"].astype(float)"
   ]
  },
  {
   "cell_type": "code",
   "execution_count": 11,
   "metadata": {},
   "outputs": [
    {
     "data": {
      "text/plain": [
       "name               object\n",
       "year                int64\n",
       "selling_price       int64\n",
       "km_driven           int64\n",
       "fuel               object\n",
       "seller_type        object\n",
       "transmission       object\n",
       "owner              object\n",
       "mileage(kmpl)     float64\n",
       "engine(CC)        float64\n",
       "max_power(bhp)    float64\n",
       "torque             object\n",
       "seats             float64\n",
       "dtype: object"
      ]
     },
     "execution_count": 11,
     "metadata": {},
     "output_type": "execute_result"
    }
   ],
   "source": [
    "df.dtypes"
   ]
  },
  {
   "cell_type": "markdown",
   "metadata": {},
   "source": [
    "### 4. Converting categorical\n",
    "\n",
    "Converting categorical variables."
   ]
  },
  {
   "cell_type": "code",
   "execution_count": 12,
   "metadata": {},
   "outputs": [],
   "source": [
    "df['fuel'] = df['fuel'].astype('category')\n",
    "df['seller_type'] = df['seller_type'].astype('category')\n",
    "df['transmission'] = df['transmission'].astype('category')\n",
    "df['owner'] = df['owner'].astype('category')"
   ]
  },
  {
   "cell_type": "code",
   "execution_count": 13,
   "metadata": {},
   "outputs": [
    {
     "data": {
      "text/plain": [
       "name                object\n",
       "year                 int64\n",
       "selling_price        int64\n",
       "km_driven            int64\n",
       "fuel              category\n",
       "seller_type       category\n",
       "transmission      category\n",
       "owner             category\n",
       "mileage(kmpl)      float64\n",
       "engine(CC)         float64\n",
       "max_power(bhp)     float64\n",
       "torque              object\n",
       "seats              float64\n",
       "dtype: object"
      ]
     },
     "execution_count": 13,
     "metadata": {},
     "output_type": "execute_result"
    }
   ],
   "source": [
    "df.dtypes"
   ]
  },
  {
   "cell_type": "markdown",
   "metadata": {},
   "source": [
    "## Exploratory Data Analysis"
   ]
  },
  {
   "cell_type": "markdown",
   "metadata": {},
   "source": [
    "### 1. Numeric values descriptive statistics"
   ]
  },
  {
   "cell_type": "code",
   "execution_count": 14,
   "metadata": {},
   "outputs": [
    {
     "data": {
      "text/html": [
       "<div>\n",
       "<style scoped>\n",
       "    .dataframe tbody tr th:only-of-type {\n",
       "        vertical-align: middle;\n",
       "    }\n",
       "\n",
       "    .dataframe tbody tr th {\n",
       "        vertical-align: top;\n",
       "    }\n",
       "\n",
       "    .dataframe thead th {\n",
       "        text-align: right;\n",
       "    }\n",
       "</style>\n",
       "<table border=\"1\" class=\"dataframe\">\n",
       "  <thead>\n",
       "    <tr style=\"text-align: right;\">\n",
       "      <th></th>\n",
       "      <th>year</th>\n",
       "      <th>selling_price</th>\n",
       "      <th>km_driven</th>\n",
       "      <th>mileage(kmpl)</th>\n",
       "      <th>engine(CC)</th>\n",
       "      <th>max_power(bhp)</th>\n",
       "      <th>seats</th>\n",
       "    </tr>\n",
       "  </thead>\n",
       "  <tbody>\n",
       "    <tr>\n",
       "      <th>count</th>\n",
       "      <td>6717.000000</td>\n",
       "      <td>6.717000e+03</td>\n",
       "      <td>6.717000e+03</td>\n",
       "      <td>6717.000000</td>\n",
       "      <td>6717.000000</td>\n",
       "      <td>6717.000000</td>\n",
       "      <td>6717.000000</td>\n",
       "    </tr>\n",
       "    <tr>\n",
       "      <th>mean</th>\n",
       "      <td>2013.611136</td>\n",
       "      <td>5.263860e+05</td>\n",
       "      <td>7.339834e+04</td>\n",
       "      <td>19.578935</td>\n",
       "      <td>1430.985857</td>\n",
       "      <td>87.766100</td>\n",
       "      <td>5.434271</td>\n",
       "    </tr>\n",
       "    <tr>\n",
       "      <th>std</th>\n",
       "      <td>3.897402</td>\n",
       "      <td>5.235504e+05</td>\n",
       "      <td>5.870328e+04</td>\n",
       "      <td>4.280333</td>\n",
       "      <td>493.469198</td>\n",
       "      <td>31.724555</td>\n",
       "      <td>0.983805</td>\n",
       "    </tr>\n",
       "    <tr>\n",
       "      <th>min</th>\n",
       "      <td>1994.000000</td>\n",
       "      <td>2.999900e+04</td>\n",
       "      <td>1.000000e+00</td>\n",
       "      <td>0.000000</td>\n",
       "      <td>624.000000</td>\n",
       "      <td>32.800000</td>\n",
       "      <td>2.000000</td>\n",
       "    </tr>\n",
       "    <tr>\n",
       "      <th>25%</th>\n",
       "      <td>2011.000000</td>\n",
       "      <td>2.500000e+05</td>\n",
       "      <td>3.800000e+04</td>\n",
       "      <td>16.800000</td>\n",
       "      <td>1197.000000</td>\n",
       "      <td>67.100000</td>\n",
       "      <td>5.000000</td>\n",
       "    </tr>\n",
       "    <tr>\n",
       "      <th>50%</th>\n",
       "      <td>2014.000000</td>\n",
       "      <td>4.200000e+05</td>\n",
       "      <td>6.820300e+04</td>\n",
       "      <td>19.500000</td>\n",
       "      <td>1248.000000</td>\n",
       "      <td>81.830000</td>\n",
       "      <td>5.000000</td>\n",
       "    </tr>\n",
       "    <tr>\n",
       "      <th>75%</th>\n",
       "      <td>2017.000000</td>\n",
       "      <td>6.500000e+05</td>\n",
       "      <td>1.000000e+05</td>\n",
       "      <td>22.540000</td>\n",
       "      <td>1498.000000</td>\n",
       "      <td>100.000000</td>\n",
       "      <td>5.000000</td>\n",
       "    </tr>\n",
       "    <tr>\n",
       "      <th>max</th>\n",
       "      <td>2020.000000</td>\n",
       "      <td>1.000000e+07</td>\n",
       "      <td>2.360457e+06</td>\n",
       "      <td>46.816000</td>\n",
       "      <td>3604.000000</td>\n",
       "      <td>400.000000</td>\n",
       "      <td>14.000000</td>\n",
       "    </tr>\n",
       "  </tbody>\n",
       "</table>\n",
       "</div>"
      ],
      "text/plain": [
       "              year  selling_price     km_driven  mileage(kmpl)   engine(CC)  \\\n",
       "count  6717.000000   6.717000e+03  6.717000e+03    6717.000000  6717.000000   \n",
       "mean   2013.611136   5.263860e+05  7.339834e+04      19.578935  1430.985857   \n",
       "std       3.897402   5.235504e+05  5.870328e+04       4.280333   493.469198   \n",
       "min    1994.000000   2.999900e+04  1.000000e+00       0.000000   624.000000   \n",
       "25%    2011.000000   2.500000e+05  3.800000e+04      16.800000  1197.000000   \n",
       "50%    2014.000000   4.200000e+05  6.820300e+04      19.500000  1248.000000   \n",
       "75%    2017.000000   6.500000e+05  1.000000e+05      22.540000  1498.000000   \n",
       "max    2020.000000   1.000000e+07  2.360457e+06      46.816000  3604.000000   \n",
       "\n",
       "       max_power(bhp)        seats  \n",
       "count     6717.000000  6717.000000  \n",
       "mean        87.766100     5.434271  \n",
       "std         31.724555     0.983805  \n",
       "min         32.800000     2.000000  \n",
       "25%         67.100000     5.000000  \n",
       "50%         81.830000     5.000000  \n",
       "75%        100.000000     5.000000  \n",
       "max        400.000000    14.000000  "
      ]
     },
     "execution_count": 14,
     "metadata": {},
     "output_type": "execute_result"
    }
   ],
   "source": [
    "df.describe()"
   ]
  },
  {
   "cell_type": "markdown",
   "metadata": {},
   "source": [
    "### 2. Numeric correlations\n",
    "\n",
    "Determine how numeric data correlates with one another."
   ]
  },
  {
   "cell_type": "code",
   "execution_count": 15,
   "metadata": {},
   "outputs": [
    {
     "data": {
      "text/plain": [
       "<AxesSubplot:>"
      ]
     },
     "execution_count": 15,
     "metadata": {},
     "output_type": "execute_result"
    },
    {
     "data": {
      "image/png": "[encoded data removed]",
      "text/plain": [
       "<Figure size 432x288 with 2 Axes>"
      ]
     },
     "metadata": {
      "needs_background": "light"
     },
     "output_type": "display_data"
    }
   ],
   "source": [
    "cor_data = df.corr()\n",
    "sns.heatmap(cor_data,cmap=\"BrBG\")"
   ]
  },
  {
   "cell_type": "code",
   "execution_count": 16,
   "metadata": {},
   "outputs": [
    {
     "data": {
      "text/plain": [
       "Text(0.5, 1.0, 'Selling price vs Max Power')"
      ]
     },
     "execution_count": 16,
     "metadata": {},
     "output_type": "execute_result"
    },
    {
     "data": {
      "image/png": "[encoded data removed]",
      "text/plain": [
       "<Figure size 432x288 with 1 Axes>"
      ]
     },
     "metadata": {
      "needs_background": "light"
     },
     "output_type": "display_data"
    }
   ],
   "source": [
    "sns.regplot(data=df,x=\"max_power(bhp)\",y=\"selling_price\")\n",
    "plt.title(\"Selling price vs Max Power\")"
   ]
  },
  {
   "cell_type": "code",
   "execution_count": 17,
   "metadata": {},
   "outputs": [
    {
     "data": {
      "text/plain": [
       "Text(0.5, 1.0, 'Selling price vs Kms Driven')"
      ]
     },
     "execution_count": 17,
     "metadata": {},
     "output_type": "execute_result"
    },
    {
     "data": {
      "image/png": "[encoded data removed]",
      "text/plain": [
       "<Figure size 432x288 with 1 Axes>"
      ]
     },
     "metadata": {
      "needs_background": "light"
     },
     "output_type": "display_data"
    }
   ],
   "source": [
    "sns.regplot(data=df,x=\"km_driven\",y=\"selling_price\")\n",
    "plt.title(\"Selling price vs Kms Driven\")"
   ]
  },
  {
   "cell_type": "markdown",
   "metadata": {},
   "source": [
    "The correlation map shows that the selling price may have a positive relationship between year, engine (cc) and max power (bhp). It may also have a negative relationship between km driven, mileage, while having almost no relationship with the amount of seats in the car."
   ]
  },
  {
   "cell_type": "markdown",
   "metadata": {},
   "source": [
    "### 3. VIF for Numerical variables\n",
    "\n",
    "Calculating VIF for determining best independent variables in the dataset."
   ]
  },
  {
   "cell_type": "code",
   "execution_count": 18,
   "metadata": {},
   "outputs": [
    {
     "name": "stdout",
     "output_type": "stream",
     "text": [
      "         features         VIF\n",
      "0            year  112.826829\n",
      "1       km_driven    2.841779\n",
      "2   mileage(kmpl)   33.378196\n",
      "3      engine(CC)   37.688450\n",
      "4  max_power(bhp)   19.175168\n",
      "5           seats   64.602443\n"
     ]
    }
   ],
   "source": [
    "X = df.drop(['selling_price','name','seller_type','transmission','owner','fuel','torque'],axis=1)\n",
    "vif = pd.DataFrame()\n",
    "vif['features'] = X.columns\n",
    "vif['VIF'] = [variance_inflation_factor(X.values,i) for i in range(X.shape[1])]\n",
    "print(vif)"
   ]
  },
  {
   "cell_type": "markdown",
   "metadata": {},
   "source": [
    "In this case, we are calculating the correlation between the independent variables. Optimally, we are looking that all variables have a VIF of <= 10. In this case, year has the highest VIF value, so the process will be done again to calculate the correlation without the year value."
   ]
  },
  {
   "cell_type": "code",
   "execution_count": 19,
   "metadata": {},
   "outputs": [
    {
     "name": "stdout",
     "output_type": "stream",
     "text": [
      "         features        VIF\n",
      "0       km_driven   2.806853\n",
      "1   mileage(kmpl)  12.368979\n",
      "2      engine(CC)  37.571986\n",
      "3  max_power(bhp)  17.175010\n",
      "4           seats  39.847272\n"
     ]
    }
   ],
   "source": [
    "X = df.drop(['selling_price','name','seller_type','transmission','owner','fuel','torque','year'],axis=1)\n",
    "vif = pd.DataFrame()\n",
    "vif['features'] = X.columns\n",
    "vif['VIF'] = [variance_inflation_factor(X.values,i) for i in range(X.shape[1])]\n",
    "print(vif)"
   ]
  },
  {
   "cell_type": "markdown",
   "metadata": {},
   "source": [
    "VIF values have decreased, however, engine (cc) and seats variables still have high VIF values."
   ]
  },
  {
   "cell_type": "code",
   "execution_count": 20,
   "metadata": {},
   "outputs": [
    {
     "name": "stdout",
     "output_type": "stream",
     "text": [
      "         features       VIF\n",
      "0       km_driven  2.383302\n",
      "1   mileage(kmpl)  5.176872\n",
      "2  max_power(bhp)  5.266145\n"
     ]
    }
   ],
   "source": [
    "X = df.drop(['selling_price','name','seller_type','transmission','owner','fuel','torque','year','seats','engine(CC)'],axis=1)\n",
    "vif = pd.DataFrame()\n",
    "vif['features'] = X.columns\n",
    "vif['VIF'] = [variance_inflation_factor(X.values,i) for i in range(X.shape[1])]\n",
    "print(vif)"
   ]
  },
  {
   "cell_type": "markdown",
   "metadata": {},
   "source": [
    "In this case, all km_driven, mileage(kmpl) and max_power(bhp) have VIFs of < 10. This is a good indicator that they may be good independent variables for the model."
   ]
  },
  {
   "cell_type": "markdown",
   "metadata": {},
   "source": [
    "### 4. Categorical variables correlation\n",
    "\n",
    "Determining correlation between categorical variables and selling price."
   ]
  },
  {
   "cell_type": "code",
   "execution_count": 21,
   "metadata": {},
   "outputs": [],
   "source": [
    "cat_df = df[['selling_price','fuel','seller_type','transmission','owner']]"
   ]
  },
  {
   "cell_type": "code",
   "execution_count": 22,
   "metadata": {},
   "outputs": [],
   "source": [
    "# Function to return dictionary for categorical variables\n",
    "def GetVariableDict(df,colname):\n",
    "    types_arr = np.asarray(df[colname].value_counts().index)\n",
    "    ids_arr = [x+1 for x in range(len(types_arr))]\n",
    "    return {types_arr[x]: ids_arr[x] for x in range(len(ids_arr))}"
   ]
  },
  {
   "cell_type": "code",
   "execution_count": 23,
   "metadata": {},
   "outputs": [],
   "source": [
    "# Function to replace categorical variables with numbers\n",
    "def ReplaceColumnValues(df,colname,coldict):\n",
    "    col_values = df[colname]\n",
    "    result = []\n",
    "    for col in col_values:\n",
    "        result.append(coldict[col])\n",
    "    df[colname] = result"
   ]
  },
  {
   "cell_type": "code",
   "execution_count": 24,
   "metadata": {},
   "outputs": [],
   "source": [
    "# Obtaining variables Dictionaries\n",
    "fuel_dict = GetVariableDict(cat_df,'fuel')\n",
    "seller_dict = GetVariableDict(cat_df,'seller_type')\n",
    "trans_dict = GetVariableDict(cat_df,'transmission')\n",
    "owner_dict = GetVariableDict(cat_df,'owner')"
   ]
  },
  {
   "cell_type": "code",
   "execution_count": 25,
   "metadata": {},
   "outputs": [
    {
     "name": "stderr",
     "output_type": "stream",
     "text": [
      "D:\\Programs\\Python\\lib\\site-packages\\pandas\\core\\frame.py:3607: SettingWithCopyWarning: \n",
      "A value is trying to be set on a copy of a slice from a DataFrame.\n",
      "Try using .loc[row_indexer,col_indexer] = value instead\n",
      "\n",
      "See the caveats in the documentation: https://pandas.pydata.org/pandas-docs/stable/user_guide/indexing.html#returning-a-view-versus-a-copy\n",
      "  self._set_item(key, value)\n"
     ]
    }
   ],
   "source": [
    "# Replacing column values\n",
    "ReplaceColumnValues(cat_df,'fuel',fuel_dict)\n",
    "ReplaceColumnValues(cat_df,'seller_type',seller_dict)\n",
    "ReplaceColumnValues(cat_df,'transmission',trans_dict)\n",
    "ReplaceColumnValues(cat_df,'owner',owner_dict)"
   ]
  },
  {
   "cell_type": "code",
   "execution_count": 26,
   "metadata": {},
   "outputs": [
    {
     "data": {
      "text/plain": [
       "<AxesSubplot:>"
      ]
     },
     "execution_count": 26,
     "metadata": {},
     "output_type": "execute_result"
    },
    {
     "data": {
      "image/png": "[encoded data removed]",
      "text/plain": [
       "<Figure size 432x288 with 2 Axes>"
      ]
     },
     "metadata": {
      "needs_background": "light"
     },
     "output_type": "display_data"
    }
   ],
   "source": [
    "cat_corr_df = cat_df.corr()\n",
    "sns.heatmap(cat_corr_df,cmap=\"BrBG\")"
   ]
  },
  {
   "cell_type": "markdown",
   "metadata": {},
   "source": [
    "All four categorical variables have no high correlation with selling price. However, seller type is the variable that has the least correlation out of the four variables."
   ]
  },
  {
   "cell_type": "markdown",
   "metadata": {},
   "source": [
    "### 5. Categorical variables VIF\n",
    "\n",
    "Determining VIF for categorical variables."
   ]
  },
  {
   "cell_type": "code",
   "execution_count": 27,
   "metadata": {},
   "outputs": [
    {
     "name": "stdout",
     "output_type": "stream",
     "text": [
      "          types        VIF\n",
      "0          fuel   6.679406\n",
      "1   seller_type  10.306181\n",
      "2  transmission  12.028930\n",
      "3         owner   4.216743\n"
     ]
    }
   ],
   "source": [
    "X = cat_df.drop(['selling_price'],axis=1)\n",
    "vif = pd.DataFrame()\n",
    "vif['types'] = X.columns\n",
    "vif['VIF'] = [variance_inflation_factor(X.values,i) for i in range(X.shape[1])]\n",
    "print(vif)"
   ]
  },
  {
   "cell_type": "markdown",
   "metadata": {},
   "source": [
    "Transmission variable has a VIF value of 12, so the process will be repeated without transmission variable."
   ]
  },
  {
   "cell_type": "code",
   "execution_count": 28,
   "metadata": {},
   "outputs": [
    {
     "name": "stdout",
     "output_type": "stream",
     "text": [
      "         types       VIF\n",
      "0         fuel  5.951893\n",
      "1  seller_type  6.033533\n",
      "2        owner  3.941030\n"
     ]
    }
   ],
   "source": [
    "X = cat_df.drop(['selling_price','transmission'],axis=1)\n",
    "vif = pd.DataFrame()\n",
    "vif['types'] = X.columns\n",
    "vif['VIF'] = [variance_inflation_factor(X.values,i) for i in range(X.shape[1])]\n",
    "print(vif)"
   ]
  },
  {
   "cell_type": "markdown",
   "metadata": {},
   "source": [
    "Variables fuel, seller type and owner have VIF values below 10, which indicate that these variables have low colinearity, which means they can be good predictors for the model."
   ]
  },
  {
   "cell_type": "markdown",
   "metadata": {},
   "source": [
    "### 6. VIF values with Numeric and Categorical variables\n",
    "\n",
    "Calculating VIF values between numeric and categorical values combined."
   ]
  },
  {
   "cell_type": "code",
   "execution_count": 29,
   "metadata": {},
   "outputs": [
    {
     "data": {
      "text/html": [
       "<div>\n",
       "<style scoped>\n",
       "    .dataframe tbody tr th:only-of-type {\n",
       "        vertical-align: middle;\n",
       "    }\n",
       "\n",
       "    .dataframe tbody tr th {\n",
       "        vertical-align: top;\n",
       "    }\n",
       "\n",
       "    .dataframe thead th {\n",
       "        text-align: right;\n",
       "    }\n",
       "</style>\n",
       "<table border=\"1\" class=\"dataframe\">\n",
       "  <thead>\n",
       "    <tr style=\"text-align: right;\">\n",
       "      <th></th>\n",
       "      <th>selling_price</th>\n",
       "      <th>km_driven</th>\n",
       "      <th>mileage(kmpl)</th>\n",
       "      <th>max_power(bhp)</th>\n",
       "      <th>fuel</th>\n",
       "      <th>seller_type</th>\n",
       "      <th>owner</th>\n",
       "    </tr>\n",
       "  </thead>\n",
       "  <tbody>\n",
       "    <tr>\n",
       "      <th>0</th>\n",
       "      <td>450000</td>\n",
       "      <td>145500</td>\n",
       "      <td>23.40</td>\n",
       "      <td>74.00</td>\n",
       "      <td>Diesel</td>\n",
       "      <td>Individual</td>\n",
       "      <td>First Owner</td>\n",
       "    </tr>\n",
       "    <tr>\n",
       "      <th>1</th>\n",
       "      <td>370000</td>\n",
       "      <td>120000</td>\n",
       "      <td>21.14</td>\n",
       "      <td>103.52</td>\n",
       "      <td>Diesel</td>\n",
       "      <td>Individual</td>\n",
       "      <td>Second Owner</td>\n",
       "    </tr>\n",
       "    <tr>\n",
       "      <th>2</th>\n",
       "      <td>158000</td>\n",
       "      <td>140000</td>\n",
       "      <td>17.70</td>\n",
       "      <td>78.00</td>\n",
       "      <td>Petrol</td>\n",
       "      <td>Individual</td>\n",
       "      <td>Third Owner</td>\n",
       "    </tr>\n",
       "    <tr>\n",
       "      <th>3</th>\n",
       "      <td>225000</td>\n",
       "      <td>127000</td>\n",
       "      <td>23.00</td>\n",
       "      <td>90.00</td>\n",
       "      <td>Diesel</td>\n",
       "      <td>Individual</td>\n",
       "      <td>First Owner</td>\n",
       "    </tr>\n",
       "    <tr>\n",
       "      <th>4</th>\n",
       "      <td>130000</td>\n",
       "      <td>120000</td>\n",
       "      <td>16.10</td>\n",
       "      <td>88.20</td>\n",
       "      <td>Petrol</td>\n",
       "      <td>Individual</td>\n",
       "      <td>First Owner</td>\n",
       "    </tr>\n",
       "    <tr>\n",
       "      <th>...</th>\n",
       "      <td>...</td>\n",
       "      <td>...</td>\n",
       "      <td>...</td>\n",
       "      <td>...</td>\n",
       "      <td>...</td>\n",
       "      <td>...</td>\n",
       "      <td>...</td>\n",
       "    </tr>\n",
       "    <tr>\n",
       "      <th>8121</th>\n",
       "      <td>260000</td>\n",
       "      <td>50000</td>\n",
       "      <td>18.90</td>\n",
       "      <td>67.10</td>\n",
       "      <td>Petrol</td>\n",
       "      <td>Individual</td>\n",
       "      <td>Second Owner</td>\n",
       "    </tr>\n",
       "    <tr>\n",
       "      <th>8122</th>\n",
       "      <td>475000</td>\n",
       "      <td>80000</td>\n",
       "      <td>22.54</td>\n",
       "      <td>88.73</td>\n",
       "      <td>Diesel</td>\n",
       "      <td>Individual</td>\n",
       "      <td>Second Owner</td>\n",
       "    </tr>\n",
       "    <tr>\n",
       "      <th>8123</th>\n",
       "      <td>320000</td>\n",
       "      <td>110000</td>\n",
       "      <td>18.50</td>\n",
       "      <td>82.85</td>\n",
       "      <td>Petrol</td>\n",
       "      <td>Individual</td>\n",
       "      <td>First Owner</td>\n",
       "    </tr>\n",
       "    <tr>\n",
       "      <th>8124</th>\n",
       "      <td>135000</td>\n",
       "      <td>119000</td>\n",
       "      <td>16.80</td>\n",
       "      <td>110.00</td>\n",
       "      <td>Diesel</td>\n",
       "      <td>Individual</td>\n",
       "      <td>Fourth &amp; Above Owner</td>\n",
       "    </tr>\n",
       "    <tr>\n",
       "      <th>8125</th>\n",
       "      <td>382000</td>\n",
       "      <td>120000</td>\n",
       "      <td>19.30</td>\n",
       "      <td>73.90</td>\n",
       "      <td>Diesel</td>\n",
       "      <td>Individual</td>\n",
       "      <td>First Owner</td>\n",
       "    </tr>\n",
       "  </tbody>\n",
       "</table>\n",
       "<p>6717 rows × 7 columns</p>\n",
       "</div>"
      ],
      "text/plain": [
       "      selling_price  km_driven  mileage(kmpl)  max_power(bhp)    fuel  \\\n",
       "0            450000     145500          23.40           74.00  Diesel   \n",
       "1            370000     120000          21.14          103.52  Diesel   \n",
       "2            158000     140000          17.70           78.00  Petrol   \n",
       "3            225000     127000          23.00           90.00  Diesel   \n",
       "4            130000     120000          16.10           88.20  Petrol   \n",
       "...             ...        ...            ...             ...     ...   \n",
       "8121         260000      50000          18.90           67.10  Petrol   \n",
       "8122         475000      80000          22.54           88.73  Diesel   \n",
       "8123         320000     110000          18.50           82.85  Petrol   \n",
       "8124         135000     119000          16.80          110.00  Diesel   \n",
       "8125         382000     120000          19.30           73.90  Diesel   \n",
       "\n",
       "     seller_type                 owner  \n",
       "0     Individual           First Owner  \n",
       "1     Individual          Second Owner  \n",
       "2     Individual           Third Owner  \n",
       "3     Individual           First Owner  \n",
       "4     Individual           First Owner  \n",
       "...          ...                   ...  \n",
       "8121  Individual          Second Owner  \n",
       "8122  Individual          Second Owner  \n",
       "8123  Individual           First Owner  \n",
       "8124  Individual  Fourth & Above Owner  \n",
       "8125  Individual           First Owner  \n",
       "\n",
       "[6717 rows x 7 columns]"
      ]
     },
     "execution_count": 29,
     "metadata": {},
     "output_type": "execute_result"
    }
   ],
   "source": [
    "mixed_df = df[['selling_price','km_driven','mileage(kmpl)','max_power(bhp)','fuel','seller_type','owner']]\n",
    "mixed_df"
   ]
  },
  {
   "cell_type": "code",
   "execution_count": 30,
   "metadata": {},
   "outputs": [
    {
     "name": "stderr",
     "output_type": "stream",
     "text": [
      "D:\\Programs\\Python\\lib\\site-packages\\pandas\\core\\frame.py:3607: SettingWithCopyWarning: \n",
      "A value is trying to be set on a copy of a slice from a DataFrame.\n",
      "Try using .loc[row_indexer,col_indexer] = value instead\n",
      "\n",
      "See the caveats in the documentation: https://pandas.pydata.org/pandas-docs/stable/user_guide/indexing.html#returning-a-view-versus-a-copy\n",
      "  self._set_item(key, value)\n"
     ]
    }
   ],
   "source": [
    "fuel_dict = GetVariableDict(mixed_df,'fuel')\n",
    "seller_dict = GetVariableDict(mixed_df,'seller_type')\n",
    "owner_dict = GetVariableDict(mixed_df,'owner')\n",
    "\n",
    "ReplaceColumnValues(mixed_df,'fuel',fuel_dict)\n",
    "ReplaceColumnValues(mixed_df,'seller_type',seller_dict)\n",
    "ReplaceColumnValues(mixed_df,'owner',owner_dict)"
   ]
  },
  {
   "cell_type": "code",
   "execution_count": 31,
   "metadata": {},
   "outputs": [
    {
     "data": {
      "text/plain": [
       "<AxesSubplot:>"
      ]
     },
     "execution_count": 31,
     "metadata": {},
     "output_type": "execute_result"
    },
    {
     "data": {
      "image/png": "[encoded data removed]",
      "text/plain": [
       "<Figure size 432x288 with 2 Axes>"
      ]
     },
     "metadata": {
      "needs_background": "light"
     },
     "output_type": "display_data"
    }
   ],
   "source": [
    "mixed_corr_df = mixed_df.corr()\n",
    "sns.heatmap(mixed_corr_df,cmap=\"BrBG\")"
   ]
  },
  {
   "cell_type": "markdown",
   "metadata": {},
   "source": [
    "Based on the heatmap, all variables have no strong correlation with price."
   ]
  },
  {
   "cell_type": "code",
   "execution_count": 32,
   "metadata": {},
   "outputs": [
    {
     "name": "stdout",
     "output_type": "stream",
     "text": [
      "         features        VIF\n",
      "0       km_driven   2.735228\n",
      "1   mileage(kmpl)  12.108638\n",
      "2  max_power(bhp)   7.467318\n",
      "3            fuel   7.424865\n",
      "4     seller_type  12.400464\n",
      "5           owner   5.082546\n"
     ]
    }
   ],
   "source": [
    "X = mixed_df.drop(['selling_price'],axis=1)\n",
    "vif = pd.DataFrame()\n",
    "vif['features'] = X.columns\n",
    "vif['VIF'] = [variance_inflation_factor(X.values,i) for i in range(X.shape[1])]\n",
    "print(vif)"
   ]
  },
  {
   "cell_type": "markdown",
   "metadata": {},
   "source": [
    "The VIF values between categorical and numeric values is relatively low, with mileage (kmpl) and seller type variables having values above 10.0. The process will be repeated without said variables."
   ]
  },
  {
   "cell_type": "code",
   "execution_count": 33,
   "metadata": {},
   "outputs": [
    {
     "name": "stdout",
     "output_type": "stream",
     "text": [
      "         features       VIF\n",
      "0       km_driven  2.682668\n",
      "1  max_power(bhp)  4.633706\n",
      "2            fuel  4.403799\n",
      "3           owner  4.954278\n"
     ]
    }
   ],
   "source": [
    "X = mixed_df.drop(['selling_price','seller_type','mileage(kmpl)'],axis=1)\n",
    "vif = pd.DataFrame()\n",
    "vif['features'] = X.columns\n",
    "vif['VIF'] = [variance_inflation_factor(X.values,i) for i in range(X.shape[1])]\n",
    "print(vif)"
   ]
  },
  {
   "cell_type": "markdown",
   "metadata": {},
   "source": [
    "Based on the VIF values calculated, the variables that are best for the model are:\n",
    "- km_driven\n",
    "- max_power(bhp)\n",
    "- fuel\n",
    "- owner"
   ]
  },
  {
   "cell_type": "markdown",
   "metadata": {},
   "source": [
    "## Exporting final DF"
   ]
  },
  {
   "cell_type": "code",
   "execution_count": 34,
   "metadata": {},
   "outputs": [],
   "source": [
    "final_df = mixed_df[['selling_price','km_driven','max_power(bhp)','fuel','owner']]\n",
    "final_df.to_csv('ModelCarData.csv',index=True)"
   ]
  }
 ],
 "metadata": {
  "interpreter": {
   "hash": "324e240ea573fd3d8056e12ea70d483238364e9b42112e18bb174b35d8d396b2"
  },
  "kernelspec": {
   "display_name": "Python 3.9.5 64-bit",
   "language": "python",
   "name": "python3"
  },
  "language_info": {
   "codemirror_mode": {
    "name": "ipython",
    "version": 3
   },
   "file_extension": ".py",
   "mimetype": "text/x-python",
   "name": "python",
   "nbconvert_exporter": "python",
   "pygments_lexer": "ipython3",
   "version": "3.9.5"
  },
  "orig_nbformat": 4
 },
 "nbformat": 4,
 "nbformat_minor": 2
}
