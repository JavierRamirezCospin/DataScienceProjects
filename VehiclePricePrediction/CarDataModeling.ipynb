{
 "cells": [
  {
   "cell_type": "markdown",
   "metadata": {},
   "source": [
    "# Model Construction and Evaluation\n",
    "\n",
    "## Objectives\n",
    "\n",
    "- Build different regression models\n",
    "- Train and test regression models"
   ]
  },
  {
   "cell_type": "code",
   "execution_count": 110,
   "metadata": {},
   "outputs": [],
   "source": [
    "import pandas as pd\n",
    "import numpy as np\n",
    "from sklearn.linear_model import LinearRegression\n",
    "from sklearn.model_selection import train_test_split\n",
    "from sklearn.metrics import r2_score, mean_squared_error\n",
    "from sklearn.preprocessing import PolynomialFeatures\n",
    "from sklearn.tree import DecisionTreeRegressor\n",
    "from sklearn.ensemble import RandomForestRegressor"
   ]
  },
  {
   "cell_type": "code",
   "execution_count": 4,
   "metadata": {},
   "outputs": [
    {
     "data": {
      "text/html": [
       "<div>\n",
       "<style scoped>\n",
       "    .dataframe tbody tr th:only-of-type {\n",
       "        vertical-align: middle;\n",
       "    }\n",
       "\n",
       "    .dataframe tbody tr th {\n",
       "        vertical-align: top;\n",
       "    }\n",
       "\n",
       "    .dataframe thead th {\n",
       "        text-align: right;\n",
       "    }\n",
       "</style>\n",
       "<table border=\"1\" class=\"dataframe\">\n",
       "  <thead>\n",
       "    <tr style=\"text-align: right;\">\n",
       "      <th></th>\n",
       "      <th>selling_price</th>\n",
       "      <th>km_driven</th>\n",
       "      <th>max_power(bhp)</th>\n",
       "      <th>fuel</th>\n",
       "      <th>owner</th>\n",
       "    </tr>\n",
       "  </thead>\n",
       "  <tbody>\n",
       "    <tr>\n",
       "      <th>0</th>\n",
       "      <td>450000</td>\n",
       "      <td>145500</td>\n",
       "      <td>74.00</td>\n",
       "      <td>1</td>\n",
       "      <td>1</td>\n",
       "    </tr>\n",
       "    <tr>\n",
       "      <th>1</th>\n",
       "      <td>370000</td>\n",
       "      <td>120000</td>\n",
       "      <td>103.52</td>\n",
       "      <td>1</td>\n",
       "      <td>2</td>\n",
       "    </tr>\n",
       "    <tr>\n",
       "      <th>2</th>\n",
       "      <td>158000</td>\n",
       "      <td>140000</td>\n",
       "      <td>78.00</td>\n",
       "      <td>2</td>\n",
       "      <td>3</td>\n",
       "    </tr>\n",
       "    <tr>\n",
       "      <th>3</th>\n",
       "      <td>225000</td>\n",
       "      <td>127000</td>\n",
       "      <td>90.00</td>\n",
       "      <td>1</td>\n",
       "      <td>1</td>\n",
       "    </tr>\n",
       "    <tr>\n",
       "      <th>4</th>\n",
       "      <td>130000</td>\n",
       "      <td>120000</td>\n",
       "      <td>88.20</td>\n",
       "      <td>2</td>\n",
       "      <td>1</td>\n",
       "    </tr>\n",
       "  </tbody>\n",
       "</table>\n",
       "</div>"
      ],
      "text/plain": [
       "   selling_price  km_driven  max_power(bhp)  fuel  owner\n",
       "0         450000     145500           74.00     1      1\n",
       "1         370000     120000          103.52     1      2\n",
       "2         158000     140000           78.00     2      3\n",
       "3         225000     127000           90.00     1      1\n",
       "4         130000     120000           88.20     2      1"
      ]
     },
     "execution_count": 4,
     "metadata": {},
     "output_type": "execute_result"
    }
   ],
   "source": [
    "# Import dataset\n",
    "df = pd.read_csv('ModelCarData.csv')\n",
    "df.drop(['Unnamed: 0'],axis=1,inplace=True)\n",
    "df.head()"
   ]
  },
  {
   "cell_type": "markdown",
   "metadata": {},
   "source": [
    "For fuel variable:\n",
    "- 1: Diesel\n",
    "- 2: Petrol\n",
    "- 3: CNG\n",
    "- 4: LPG\n",
    "\n",
    "For owner variable:\n",
    "- 1: First Owner\n",
    "- 2: Second Owner\n",
    "- 3: Third Owner\n",
    "- 4: Fourth & Above Owner\n",
    "- 5: Test Drive Car"
   ]
  },
  {
   "cell_type": "markdown",
   "metadata": {},
   "source": [
    "## Model Construction\n",
    "\n",
    "Defining train and test sets for models."
   ]
  },
  {
   "cell_type": "code",
   "execution_count": 77,
   "metadata": {},
   "outputs": [],
   "source": [
    "Y = df['selling_price']\n",
    "X = df[['km_driven','max_power(bhp)','fuel','owner']]\n",
    "X = np.asarray(X)"
   ]
  },
  {
   "cell_type": "markdown",
   "metadata": {},
   "source": [
    "### 1. Linear Regression Model\n",
    "\n",
    "Building training and testing sets, with 70% and 30% of data respectively."
   ]
  },
  {
   "cell_type": "code",
   "execution_count": 84,
   "metadata": {},
   "outputs": [],
   "source": [
    "x_train, x_test, y_train, y_test = train_test_split(X,Y,test_size=0.3,random_state=43)"
   ]
  },
  {
   "cell_type": "markdown",
   "metadata": {},
   "source": [
    "Building and training multivariate linear regression model."
   ]
  },
  {
   "cell_type": "code",
   "execution_count": 85,
   "metadata": {},
   "outputs": [],
   "source": [
    "lr = LinearRegression()\n",
    "lrm = lr.fit(x_train,y_train)"
   ]
  },
  {
   "cell_type": "markdown",
   "metadata": {},
   "source": [
    "Predict x_test selling price."
   ]
  },
  {
   "cell_type": "code",
   "execution_count": 86,
   "metadata": {},
   "outputs": [],
   "source": [
    "lr_preds = lrm.predict(x_test)"
   ]
  },
  {
   "cell_type": "code",
   "execution_count": 87,
   "metadata": {},
   "outputs": [
    {
     "name": "stdout",
     "output_type": "stream",
     "text": [
      "Squared error:  0.4830084805447066\n",
      "Mean squared error:  386231.54882058897\n"
     ]
    }
   ],
   "source": [
    "lr_r2 = r2_score(y_test,lr_preds)\n",
    "lr_mse = mean_squared_error(y_test,lr_preds,squared=False)\n",
    "\n",
    "print(\"Squared error: \",lr_r2)\n",
    "print(\"Mean squared error: \",lr_mse)"
   ]
  },
  {
   "cell_type": "markdown",
   "metadata": {},
   "source": [
    "The r2 score is below 50, which means that the model does not have a high accuracy at predicting selling prices."
   ]
  },
  {
   "cell_type": "markdown",
   "metadata": {},
   "source": [
    "### 2. Polynomial regression\n",
    "\n",
    "Defining training and testing sets with a polynomial degree of 2."
   ]
  },
  {
   "cell_type": "code",
   "execution_count": 106,
   "metadata": {},
   "outputs": [],
   "source": [
    "prm = PolynomialFeatures(degree=2)\n",
    "x_poly = prm.fit_transform(X)\n",
    "\n",
    "poly_x_train, poly_x_test, y_train, y_test = train_test_split(x_poly,Y,test_size=0.3,random_state=43)"
   ]
  },
  {
   "cell_type": "markdown",
   "metadata": {},
   "source": [
    "Training model with polynomial transformed data and predicting values of test set."
   ]
  },
  {
   "cell_type": "code",
   "execution_count": 107,
   "metadata": {},
   "outputs": [],
   "source": [
    "lr = LinearRegression()\n",
    "prm = lr.fit(poly_x_train,y_train)\n",
    "\n",
    "pr_preds = prm.predict(poly_x_test)"
   ]
  },
  {
   "cell_type": "markdown",
   "metadata": {},
   "source": [
    "Comparing predicted values with actual values."
   ]
  },
  {
   "cell_type": "code",
   "execution_count": 108,
   "metadata": {},
   "outputs": [
    {
     "name": "stdout",
     "output_type": "stream",
     "text": [
      "Squared error:  -4.816167989258717\n",
      "Mean squared error:  1295461.4891352865\n"
     ]
    }
   ],
   "source": [
    "pr_r2 = r2_score(y_test,pr_preds)\n",
    "pr_mse = mean_squared_error(y_test,pr_preds,squared=False)\n",
    "\n",
    "print(\"Squared error: \",pr_r2)\n",
    "print(\"Mean squared error: \",pr_mse)"
   ]
  },
  {
   "cell_type": "markdown",
   "metadata": {},
   "source": [
    "In this case, the polynomial regression shows a negative value for r2, which means that this model does not fit with the data."
   ]
  },
  {
   "cell_type": "markdown",
   "metadata": {},
   "source": [
    "### 3. Decision Tree regression\n",
    "\n",
    "Building decision tree regressor model."
   ]
  },
  {
   "cell_type": "code",
   "execution_count": 147,
   "metadata": {},
   "outputs": [],
   "source": [
    "dtree = DecisionTreeRegressor(max_depth=10, min_samples_leaf=0.05, random_state=2)\n",
    "\n",
    "x_train, x_test, y_train, y_test = train_test_split(X,Y,test_size=0.3,random_state=43)"
   ]
  },
  {
   "cell_type": "markdown",
   "metadata": {},
   "source": [
    "Training model with training sets and predicting selling price with test set."
   ]
  },
  {
   "cell_type": "code",
   "execution_count": 148,
   "metadata": {},
   "outputs": [],
   "source": [
    "dtm = dtree.fit(x_train,y_train)\n",
    "\n",
    "dt_preds = dtm.predict(x_test)"
   ]
  },
  {
   "cell_type": "markdown",
   "metadata": {},
   "source": [
    "Showing results of decision tree regression model."
   ]
  },
  {
   "cell_type": "code",
   "execution_count": 149,
   "metadata": {},
   "outputs": [
    {
     "name": "stdout",
     "output_type": "stream",
     "text": [
      "R2 score:  0.5146255973648961\n",
      "Mean squared error:  374235.0590739678\n"
     ]
    }
   ],
   "source": [
    "dt_r2 = r2_score(y_test,dt_preds)\n",
    "dt_mse = mean_squared_error(y_test,dt_preds,squared=False)\n",
    "\n",
    "print(\"R2 score: \",dt_r2)\n",
    "print(\"Mean squared error: \",dt_mse)"
   ]
  },
  {
   "cell_type": "markdown",
   "metadata": {},
   "source": [
    "### 4. Random Forest Regressor\n",
    "\n",
    "Building random forest regressor model."
   ]
  },
  {
   "cell_type": "code",
   "execution_count": 164,
   "metadata": {},
   "outputs": [],
   "source": [
    "rf = RandomForestRegressor(n_estimators=500, oob_score=True, random_state=100)\n",
    "\n",
    "x_train, x_test, y_train, y_test = train_test_split(X,Y,test_size=0.3,random_state=43)"
   ]
  },
  {
   "cell_type": "code",
   "execution_count": 165,
   "metadata": {},
   "outputs": [],
   "source": [
    "rfm = rf.fit(x_train,y_train)\n",
    "\n",
    "rf_preds = rfm.predict(x_test)"
   ]
  },
  {
   "cell_type": "code",
   "execution_count": 166,
   "metadata": {},
   "outputs": [
    {
     "name": "stdout",
     "output_type": "stream",
     "text": [
      "R2 score:  0.8053482971740353\n",
      "Mean squared error:  236992.79328863331\n"
     ]
    }
   ],
   "source": [
    "rf_r2 = r2_score(y_test,rf_preds)\n",
    "rf_mse = mean_squared_error(y_test,rf_preds,squared=False)\n",
    "\n",
    "print(\"R2 score: \",rf_r2)\n",
    "print(\"Mean squared error: \",rf_mse)"
   ]
  },
  {
   "cell_type": "markdown",
   "metadata": {},
   "source": [
    "## Results\n",
    "\n",
    "The results for each model are:\n",
    "\n",
    "| Model | R2 score (%) | MSE score |\n",
    "| --- | --- | --- |\n",
    "| Linear Model | 48.30 | 386,231 |\n",
    "| Polynomial Model | -481.62 | 1,295,461 |\n",
    "| Decision Tree Model | 51.46 | 374,235 |\n",
    "| Random Forest Model | 80.53 | 236,992 |\n"
   ]
  },
  {
   "cell_type": "markdown",
   "metadata": {},
   "source": [
    "Based on the results shown above, the best model is the Random forest model, with an accuracy of 80.53% over the test set and having the lowest MSE value. The worst model was the polynomial model, having a negative accuracy, and having a huge value for MSE."
   ]
  }
 ],
 "metadata": {
  "interpreter": {
   "hash": "324e240ea573fd3d8056e12ea70d483238364e9b42112e18bb174b35d8d396b2"
  },
  "kernelspec": {
   "display_name": "Python 3.9.5 64-bit",
   "language": "python",
   "name": "python3"
  },
  "language_info": {
   "codemirror_mode": {
    "name": "ipython",
    "version": 3
   },
   "file_extension": ".py",
   "mimetype": "text/x-python",
   "name": "python",
   "nbconvert_exporter": "python",
   "pygments_lexer": "ipython3",
   "version": "3.9.5"
  },
  "orig_nbformat": 4
 },
 "nbformat": 4,
 "nbformat_minor": 2
}
